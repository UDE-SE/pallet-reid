{
 "cells": [
  {
   "cell_type": "code",
   "execution_count": null,
   "metadata": {},
   "outputs": [],
   "source": [
    "from torch.utils.data import Dataset\n",
    "import torch\n",
    "from torch import optim\n",
    "from torch import nn as nn\n",
    "import os\n",
    "import cv2\n",
    "import numpy as np\n",
    "from matplotlib import pyplot as plt\n",
    "from torchvision.transforms import ToTensor\n",
    "import torch.nn.functional as F\n",
    "import pandas as pd\n",
    "import glob\n",
    "from scipy.spatial import distance\n",
    "from sklearn.neighbors import NearestNeighbors\n",
    "import torchvision.transforms as T\n",
    "from PIL import Image\n",
    "from utility import img_transform, EmbeddingHead\n",
    "from datetime import date"
   ]
  },
  {
   "cell_type": "code",
   "execution_count": null,
   "metadata": {},
   "outputs": [],
   "source": [
    "DATA_PATH = \"data/pblock-32965-idx_280x175\"\n",
    "NUM_TRAIN = 6593 # 20%\n",
    "NUM_TEST = 26372 # 80%\n",
    "NUM_TOTAL = 35912"
   ]
  },
  {
   "cell_type": "code",
   "execution_count": null,
   "metadata": {},
   "outputs": [],
   "source": [
    "df = pd.read_csv(os.path.join(DATA_PATH, \"metadata.csv\"))\n",
    "df.head()"
   ]
  },
  {
   "cell_type": "code",
   "execution_count": null,
   "metadata": {},
   "outputs": [],
   "source": [
    "class PalletDataset():\n",
    "    def __init__(self, data, target, transform=None, target_transform=None):\n",
    "        self.data = data\n",
    "        self.target = target\n",
    "        self.transform = transform\n",
    "        self.target_transform = target_transform\n",
    "\n",
    "    def __len__(self):\n",
    "        return len(self.data)\n",
    "        \n",
    "    def __getitem__(self, idx):\n",
    "        img = Image.open(self.data[idx]).convert('RGB')\n",
    "        label = self.target[idx]\n",
    "        if self.transform:\n",
    "            img = self.transform(img)\n",
    "        if self.target_transform:\n",
    "            label = self.target_transform(label)\n",
    "        return img, label"
   ]
  },
  {
   "cell_type": "code",
   "execution_count": null,
   "metadata": {},
   "outputs": [],
   "source": [
    "train_selector = (df[\"target\"] < NUM_TRAIN)\n",
    "trainset = PalletDataset(df.loc[train_selector, \"path\"].values, df.loc[train_selector, \"target\"].values, transform=img_transform, target_transform=lambda x: torch.tensor(x, dtype=torch.long))\n",
    "trainevalset = PalletDataset(df.loc[train_selector, \"path\"].values, df.loc[train_selector, \"target\"].values, transform=lambda x: img_transform(x, is_eval=True), target_transform=lambda x: torch.tensor(x, dtype=torch.long))\n",
    "print(\"Trainset: \", len(trainset))\n",
    "print(\"Trainevalset: \", len(trainevalset))"
   ]
  },
  {
   "cell_type": "code",
   "execution_count": null,
   "metadata": {},
   "outputs": [],
   "source": [
    "trainloader = torch.utils.data.DataLoader(trainset, batch_size=32, shuffle=True, num_workers=8)"
   ]
  },
  {
   "cell_type": "code",
   "execution_count": null,
   "metadata": {},
   "outputs": [],
   "source": [
    "class ClassifierHead(nn.Module):\n",
    "    def __init__(self, in_features, n_classes):\n",
    "        super().__init__()\n",
    "        self.fc1 = nn.Linear(in_features, n_classes)\n",
    "\n",
    "    def forward(self, x):\n",
    "        return self.fc1(x)"
   ]
  },
  {
   "cell_type": "code",
   "execution_count": null,
   "metadata": {},
   "outputs": [],
   "source": [
    "device = torch.device('cuda' if torch.cuda.is_available() else 'cpu')\n",
    "print(device)"
   ]
  },
  {
   "cell_type": "code",
   "execution_count": null,
   "metadata": {},
   "outputs": [],
   "source": [
    "net = torch.hub.load('pytorch/vision:v0.10.0', 'resnet50', pretrained=True)\n",
    "net.fc = ClassifierHead(net.fc.in_features, NUM_TRAIN)\n",
    "optimizer = optim.SGD(net.parameters(), lr=0.01)\n",
    "lr_scheduler = optim.lr_scheduler.MultiStepLR(optimizer=optimizer, milestones=[20, 40], gamma=0.3)\n",
    "criterion = torch.nn.CrossEntropyLoss()"
   ]
  },
  {
   "cell_type": "code",
   "execution_count": null,
   "metadata": {},
   "outputs": [],
   "source": [
    "EPOCHS = 80\n",
    "SAVE_PATH = \"model/\"\n",
    "\n",
    "net.to(device)\n",
    "net.train()\n",
    "\n",
    "for epoch in range(EPOCHS):\n",
    "    running_loss = 0.0\n",
    "    total = torch.tensor(0).to(device)\n",
    "    correct = torch.tensor(0).to(device)\n",
    "    for i, data in enumerate(trainloader, 0):\n",
    "        x, y = data\n",
    "        optimizer.zero_grad()\n",
    "        out = net(x.to(device))\n",
    "        loss = criterion(out, y.to(device))\n",
    "        loss.backward()\n",
    "        optimizer.step()\n",
    "\n",
    "        _, pred = torch.max(out.data, 1)\n",
    "        total += y.size(0)\n",
    "        correct += (pred == y.to(device)).sum().item()\n",
    "\n",
    "        running_loss += loss.item()\n",
    "        ratio = (correct / total).to(\"cpu\")\n",
    "        if i % 200 == 199:\n",
    "            print(f'[{epoch + 1}, {i + 1:3d}] loss: {running_loss / 199:.3f} acc: ({100*ratio:.2f})')\n",
    "            running_loss = 0.0\n",
    "    lr_scheduler.step()\n",
    "    torch.save(net.state_dict(), os.path.join(SAVE_PATH, \"model_classifier_256x128_e\" + str(epoch) + \"_\" + str(date.today()) + \".pth\"))\n",
    "print('Finished Training')"
   ]
  },
  {
   "cell_type": "markdown",
   "metadata": {},
   "source": [
    "## Eval"
   ]
  },
  {
   "cell_type": "code",
   "execution_count": null,
   "metadata": {},
   "outputs": [],
   "source": [
    "trainevalloader = torch.utils.data.DataLoader(trainevalset, batch_size=256, shuffle=False, num_workers=8)"
   ]
  },
  {
   "cell_type": "code",
   "execution_count": null,
   "metadata": {},
   "outputs": [],
   "source": [
    "net.eval()\n",
    "net.to(device)\n",
    "with torch.no_grad():\n",
    "    total = torch.tensor(0).to(device)\n",
    "    correct = torch.tensor(0).to(device)\n",
    "    for i, data in enumerate(trainevalloader, 0):\n",
    "        x, y = data\n",
    "        out = net(x.to(device))\n",
    "        _, pred = torch.max(out.data, 1)\n",
    "        total += y.size(0)\n",
    "        correct += (pred == y.to(device)).sum().item()\n",
    "acc = (correct / total * 100).to(\"cpu\")\n",
    "print(\"Trainset acc: %.2f\" %(acc))"
   ]
  }
 ],
 "metadata": {
  "interpreter": {
   "hash": "69cf509240d94a37c1094653e766edea7cfd00f05bbee75c76ffbfcae4e4ebc8"
  },
  "kernelspec": {
   "display_name": "Python 3.8.8 ('torch_py38')",
   "language": "python",
   "name": "python3"
  },
  "language_info": {
   "codemirror_mode": {
    "name": "ipython",
    "version": 3
   },
   "file_extension": ".py",
   "mimetype": "text/x-python",
   "name": "python",
   "nbconvert_exporter": "python",
   "pygments_lexer": "ipython3",
   "version": "3.8.8"
  },
  "orig_nbformat": 4
 },
 "nbformat": 4,
 "nbformat_minor": 2
}
