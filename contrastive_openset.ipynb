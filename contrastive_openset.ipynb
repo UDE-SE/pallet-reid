{
 "cells": [
  {
   "cell_type": "code",
   "execution_count": null,
   "metadata": {},
   "outputs": [],
   "source": [
    "from torch.utils.data import Dataset\n",
    "import torch\n",
    "from torch import optim\n",
    "from torch import nn as nn\n",
    "import os\n",
    "import glob\n",
    "import cv2\n",
    "import pandas as pd\n",
    "import numpy as np\n",
    "from matplotlib import pyplot as plt\n",
    "from torchvision.transforms import ToTensor\n",
    "import torch.nn.functional as F\n",
    "from PIL import Image\n",
    "import torchvision.transforms as T\n",
    "from utility import img_transform, EmbeddingHead\n",
    "from datetime import date"
   ]
  },
  {
   "cell_type": "code",
   "execution_count": null,
   "metadata": {},
   "outputs": [],
   "source": [
    "DATA_PATH = \"data/pblock-32965-idx_280x175\"\n",
    "NUM_TRAIN = 6593 # 20%\n",
    "NUM_TEST = 26372 # 80%\n",
    "NUM_TOTAL = 35912"
   ]
  },
  {
   "cell_type": "code",
   "execution_count": null,
   "metadata": {},
   "outputs": [],
   "source": [
    "df = pd.read_csv(os.path.join(DATA_PATH, \"metadata.csv\"))\n",
    "df.head()"
   ]
  },
  {
   "cell_type": "code",
   "execution_count": null,
   "metadata": {},
   "outputs": [],
   "source": [
    "class PalletTupleDataset():\n",
    "    def __init__(self, data, target, transform=None, target_transform=None):\n",
    "        self.data = data\n",
    "        self.target = target\n",
    "        self.transform = transform\n",
    "        self.target_transform = target_transform\n",
    "\n",
    "    def __len__(self):\n",
    "        return len(self.data)-1\n",
    "        \n",
    "    def __getitem__(self, idx):\n",
    "        if idx % 2 == 0:\n",
    "            # genuine pair\n",
    "            idx_one = idx\n",
    "            idx_two = idx+1\n",
    "            label = 0\n",
    "        else:\n",
    "            # impostor pair\n",
    "            idx_one = idx\n",
    "            idx_list = list(range(len(self.data)))\n",
    "            idx_list.remove(idx)\n",
    "            idx_list.remove(idx+1)\n",
    "            idx_list.remove(idx-1)\n",
    "            idx_two = np.random.choice(idx_list)\n",
    "            label = 1\n",
    "\n",
    "        img_one = Image.open(self.data[idx_one]).convert('RGB')\n",
    "        img_two = Image.open(self.data[idx_two]).convert('RGB')\n",
    "        \n",
    "        if self.transform:\n",
    "            img_one = self.transform(img_one)\n",
    "            img_two = self.transform(img_two)\n",
    "        if self.target_transform:\n",
    "            label = self.target_transform(label)\n",
    "        return img_one, img_two, label"
   ]
  },
  {
   "cell_type": "code",
   "execution_count": null,
   "metadata": {},
   "outputs": [],
   "source": [
    "class PalletDataset():\n",
    "    def __init__(self, data, target, transform=None, target_transform=None):\n",
    "        self.data = data\n",
    "        self.target = target\n",
    "        self.transform = transform\n",
    "        self.target_transform = target_transform\n",
    "\n",
    "    def __len__(self):\n",
    "        return len(self.data)\n",
    "        \n",
    "    def __getitem__(self, idx):\n",
    "        img = Image.open(self.data[idx]).convert('RGB')\n",
    "        label = self.target[idx]\n",
    "        if self.transform:\n",
    "            img = self.transform(img)\n",
    "        if self.target_transform:\n",
    "            label = self.target_transform(label)\n",
    "        return img, label"
   ]
  },
  {
   "cell_type": "code",
   "execution_count": null,
   "metadata": {},
   "outputs": [],
   "source": [
    "device = torch.device('cuda' if torch.cuda.is_available() else 'cpu')\n",
    "print(device)"
   ]
  },
  {
   "cell_type": "code",
   "execution_count": null,
   "metadata": {},
   "outputs": [],
   "source": [
    "train_selector = (df[\"target\"] < NUM_TRAIN)\n",
    "trainset = PalletTupleDataset(df.loc[train_selector, \"path\"].values, df.loc[train_selector, \"target\"].values, transform=img_transform, target_transform=lambda x: torch.tensor(x, dtype=torch.long))\n",
    "trainevalset = PalletDataset(df.loc[train_selector, \"path\"].values, df.loc[train_selector, \"target\"].values, transform=lambda x: img_transform(x, is_eval=True))"
   ]
  },
  {
   "cell_type": "code",
   "execution_count": null,
   "metadata": {},
   "outputs": [],
   "source": [
    "trainloader = torch.utils.data.DataLoader(trainset, batch_size=32, shuffle=True, num_workers=8)\n",
    "trainevalloader = torch.utils.data.DataLoader(trainevalset, batch_size=128, shuffle=False, num_workers=8)"
   ]
  },
  {
   "cell_type": "code",
   "execution_count": null,
   "metadata": {},
   "outputs": [],
   "source": [
    "def calc_energy(emb1, emb2):\n",
    "    return torch.sum(torch.abs(emb1 - emb2), dim=1)\n",
    "    #return torch.sqrt(torch.sum(torch.pow(emb1-emb2, 2), dim=1))\n",
    "\n",
    "def criterion(energy, labels):\n",
    "  Q = np.sqrt(2048)\n",
    "  #Q = 2\n",
    "  result = (1 - labels) * (2/Q) * energy**2 + labels * 2 * Q * torch.exp(-2.77/Q * energy)\n",
    "  return torch.mean(result)"
   ]
  },
  {
   "cell_type": "code",
   "execution_count": null,
   "metadata": {},
   "outputs": [],
   "source": [
    "net = torch.hub.load('pytorch/vision:v0.10.0', 'resnet50', pretrained=True)\n",
    "net.fc = EmbeddingHead()\n",
    "optimizer = optim.SGD(net.parameters(), lr=0.01)\n",
    "lr_scheduler = optim.lr_scheduler.MultiStepLR(optimizer=optimizer, milestones=[20, 40], gamma=0.3)"
   ]
  },
  {
   "cell_type": "code",
   "execution_count": null,
   "metadata": {},
   "outputs": [],
   "source": [
    "EPOCHS = 80\n",
    "SAVE_PATH = \"model/\"\n",
    "\n",
    "net.to(device)\n",
    "net.train()\n",
    "for epoch in range(80):\n",
    "    running_loss = 0.0\n",
    "    for i, data in enumerate(trainloader, 0):\n",
    "        x1, x2, labels = data\n",
    "        optimizer.zero_grad()\n",
    "        out1 = net(x1.to(device))\n",
    "        out2 = net(x2.to(device))\n",
    "        energy = calc_energy(out1, out2)\n",
    "        loss = criterion(energy, labels.to(device))\n",
    "        loss.backward()\n",
    "        optimizer.step()\n",
    "\n",
    "        running_loss += loss.item()\n",
    "        if i % 200 == 199:\n",
    "            print(f'[{epoch + 1}, {i + 1:5d}] loss: {running_loss / 199:.5f}')\n",
    "            running_loss = 0.0\n",
    "    torch.save(net.state_dict(), os.path.join(SAVE_PATH, \"model_siamese_256x128_\" + str(date.today()) + \".pth\"))\n",
    "print('Finished Training')"
   ]
  },
  {
   "cell_type": "code",
   "execution_count": null,
   "metadata": {},
   "outputs": [],
   "source": []
  }
 ],
 "metadata": {
  "interpreter": {
   "hash": "69cf509240d94a37c1094653e766edea7cfd00f05bbee75c76ffbfcae4e4ebc8"
  },
  "kernelspec": {
   "display_name": "Python 3.8.8 ('torch_py38')",
   "language": "python",
   "name": "python3"
  },
  "language_info": {
   "codemirror_mode": {
    "name": "ipython",
    "version": 3
   },
   "file_extension": ".py",
   "mimetype": "text/x-python",
   "name": "python",
   "nbconvert_exporter": "python",
   "pygments_lexer": "ipython3",
   "version": "3.8.8"
  },
  "orig_nbformat": 4
 },
 "nbformat": 4,
 "nbformat_minor": 2
}
