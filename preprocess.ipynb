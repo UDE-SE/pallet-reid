{
 "cells": [
  {
   "cell_type": "code",
   "execution_count": 2,
   "metadata": {},
   "outputs": [],
   "source": [
    "import glob \n",
    "from torch import nn as nn\n",
    "from pathlib import Path\n",
    "import math\n",
    "import cv2"
   ]
  },
  {
   "cell_type": "code",
   "execution_count": 3,
   "metadata": {},
   "outputs": [],
   "source": [
    "IMG_ASPECT_RATIO = 1.7\n",
    "IMG_HEIGHT = 170\n",
    "#IMG_WIDTH = int(IMG_ASPECT_RATIO * IMG_HEIGHT)\n",
    "IMG_WIDTH = 289\n",
    "\n",
    "#SRC_PATH = \"/home/nils/Documents/ude/pallet/data/pallet-feet-32965/all/\"\n",
    "SRC_PATH = \"/home/nils/Documents/ude/pallet/data/GAN_C_to_RL/Filtered/C2RL/\"\n",
    "DST_PATH = \"data/pblock-502-idx_%ix%i_gan/\" %(IMG_WIDTH, IMG_HEIGHT)"
   ]
  },
  {
   "cell_type": "code",
   "execution_count": 4,
   "metadata": {},
   "outputs": [
    {
     "name": "stdout",
     "output_type": "stream",
     "text": [
      "Image size: 289x170 (1.7)\n",
      "Pixels: 49130\n"
     ]
    }
   ],
   "source": [
    "print(\"Image size: %ix%i (%.1f)\" %(IMG_WIDTH, IMG_HEIGHT, IMG_ASPECT_RATIO))\n",
    "print(\"Pixels: %i\" %(IMG_WIDTH*IMG_HEIGHT))"
   ]
  },
  {
   "cell_type": "code",
   "execution_count": 5,
   "metadata": {},
   "outputs": [],
   "source": [
    "def rescale_img(path):\n",
    "  img = cv2.imread(path)\n",
    "  height, width, _ = img.shape\n",
    "  ratio = width / height\n",
    "  height_diff = 0\n",
    "  width_diff = 0\n",
    "  if ratio > IMG_ASPECT_RATIO:\n",
    "    width_diff = width - IMG_ASPECT_RATIO * height\n",
    "  else:\n",
    "    height_diff = height - width / IMG_ASPECT_RATIO\n",
    "  img_cropped = img[math.floor(height_diff/2):height-math.ceil(height_diff/2), math.floor(width_diff/2):width-math.ceil(width_diff/2), :]\n",
    "  img_scaled = cv2.resize(img, (IMG_WIDTH, IMG_HEIGHT))\n",
    "  return img, img, img_scaled"
   ]
  },
  {
   "cell_type": "code",
   "execution_count": 6,
   "metadata": {},
   "outputs": [],
   "source": [
    "Path(DST_PATH).mkdir(parents=True, exist_ok=True)"
   ]
  },
  {
   "cell_type": "code",
   "execution_count": 8,
   "metadata": {},
   "outputs": [
    {
     "name": "stdout",
     "output_type": "stream",
     "text": [
      "Copied 902/902 files.\n"
     ]
    }
   ],
   "source": [
    "counter = 0\n",
    "counter_success = 0\n",
    "\n",
    "for filename in glob.iglob(SRC_PATH + \"*.jpeg\", recursive=True):\n",
    "  try:\n",
    "    palett_idx = str(filename.split(\"/\")[-1].split(\"_\")[1])\n",
    "    Path(DST_PATH + palett_idx).mkdir(parents=True, exist_ok=True)\n",
    "    _, _, img_scaled = rescale_img(filename)\n",
    "    cv2.imwrite(DST_PATH + \"/%s/%s__%s.jpg\" %(palett_idx, filename.split(\"/\")[-2], filename.split(\"/\")[-1].split(\".\")[0]), img_scaled)\n",
    "    counter_success += 1\n",
    "  except:\n",
    "    print(\"Error for file: %s\" %(filename))\n",
    "  finally:\n",
    "    counter += 1\n",
    "\n",
    "print(\"Copied %i/%i files.\" %(counter_success, counter))"
   ]
  },
  {
   "cell_type": "code",
   "execution_count": null,
   "metadata": {},
   "outputs": [],
   "source": []
  }
 ],
 "metadata": {
  "interpreter": {
   "hash": "69cf509240d94a37c1094653e766edea7cfd00f05bbee75c76ffbfcae4e4ebc8"
  },
  "kernelspec": {
   "display_name": "Python 3.8.8 64-bit ('torch_py38': conda)",
   "language": "python",
   "name": "python3"
  },
  "language_info": {
   "codemirror_mode": {
    "name": "ipython",
    "version": 3
   },
   "file_extension": ".py",
   "mimetype": "text/x-python",
   "name": "python",
   "nbconvert_exporter": "python",
   "pygments_lexer": "ipython3",
   "version": "3.8.8"
  },
  "orig_nbformat": 4
 },
 "nbformat": 4,
 "nbformat_minor": 2
}
